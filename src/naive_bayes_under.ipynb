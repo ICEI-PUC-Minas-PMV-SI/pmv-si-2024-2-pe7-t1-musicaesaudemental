{
 "cells": [
  {
   "cell_type": "code",
   "execution_count": 10,
   "metadata": {},
   "outputs": [],
   "source": [
    "#Importar bibliotecas\n",
    "import pandas as pd\n",
    "import numpy as np\n",
    "import seaborn as sns\n"
   ]
  },
  {
   "cell_type": "code",
   "execution_count": 11,
   "metadata": {},
   "outputs": [
    {
     "name": "stdout",
     "output_type": "stream",
     "text": [
      "      Age Primary streaming service  Hours per day While working  \\\n",
      "0    18.0                   Spotify            4.0            No   \n",
      "1    61.0             YouTube Music            2.5           Yes   \n",
      "2    18.0                   Spotify            4.0           Yes   \n",
      "3    18.0                   Spotify            5.0           Yes   \n",
      "4    18.0             YouTube Music            3.0           Yes   \n",
      "..    ...                       ...            ...           ...   \n",
      "607  17.0                   Spotify            2.0           Yes   \n",
      "608  18.0                   Spotify            1.0           Yes   \n",
      "609  19.0   Other streaming service            6.0           Yes   \n",
      "610  19.0                   Spotify            5.0           Yes   \n",
      "611  29.0             YouTube Music            2.0           Yes   \n",
      "\n",
      "    Instrumentalist Composer         Fav genre Exploratory Foreign languages  \\\n",
      "0                No       No  Video game music          No               Yes   \n",
      "1                No      Yes              Jazz         Yes               Yes   \n",
      "2                No       No               R&B         Yes                No   \n",
      "3               Yes      Yes              Jazz         Yes               Yes   \n",
      "4               Yes       No  Video game music         Yes               Yes   \n",
      "..              ...      ...               ...         ...               ...   \n",
      "607             Yes       No              Rock         Yes               Yes   \n",
      "608             Yes       No               Pop         Yes               Yes   \n",
      "609              No      Yes               Rap         Yes                No   \n",
      "610             Yes       No         Classical          No                No   \n",
      "611              No       No           Hip hop         Yes               Yes   \n",
      "\n",
      "       BPM  ...  K pop_frequency  Latin_frequency  Lofi_frequency  \\\n",
      "0    132.0  ...                3                0               2   \n",
      "1     84.0  ...                2                3               2   \n",
      "2    107.0  ...                3                2               2   \n",
      "3     86.0  ...                3                1               3   \n",
      "4     66.0  ...                0                1               1   \n",
      "..     ...  ...              ...              ...             ...   \n",
      "607  120.0  ...                0                2               1   \n",
      "608  160.0  ...                0                0               1   \n",
      "609  120.0  ...                1                1               2   \n",
      "610  170.0  ...                0                0               0   \n",
      "611   98.0  ...                2                0               1   \n",
      "\n",
      "     Metal_frequency Pop_frequency R&B_frequency Rap_frequency Rock_frequency  \\\n",
      "0                  2             1             0             1              1   \n",
      "1                  0             2             2             0              0   \n",
      "2                  0             2             3             3              0   \n",
      "3                  1             3             3             3              3   \n",
      "4                  1             1             1             0              0   \n",
      "..               ...           ...           ...           ...            ...   \n",
      "607                1             3             0             1              3   \n",
      "608                0             3             0             0              2   \n",
      "609                1             2             2             2              1   \n",
      "610                0             0             0             0              0   \n",
      "611                0             2             3             3              3   \n",
      "\n",
      "    Video game music_frequency  Music effects  \n",
      "0                            3      No effect  \n",
      "1                            0        Improve  \n",
      "2                            1        Improve  \n",
      "3                            0        Improve  \n",
      "4                            2        Improve  \n",
      "..                         ...            ...  \n",
      "607                          0        Improve  \n",
      "608                          2        Improve  \n",
      "609                          1        Improve  \n",
      "610                          2        Improve  \n",
      "611                          1        Improve  \n",
      "\n",
      "[612 rows x 36 columns]\n"
     ]
    }
   ],
   "source": [
    "#Importar tabela\n",
    "file_path = 'data/dados_tratados_V2.csv'\n",
    "df = pd.read_csv(file_path, sep=';')\n",
    "print(df)"
   ]
  },
  {
   "cell_type": "code",
   "execution_count": 12,
   "metadata": {},
   "outputs": [
    {
     "name": "stderr",
     "output_type": "stream",
     "text": [
      "C:\\Users\\Gabriel\\AppData\\Local\\Temp\\ipykernel_8864\\1149751593.py:34: FutureWarning: Downcasting behavior in `replace` is deprecated and will be removed in a future version. To retain the old behavior, explicitly call `result.infer_objects(copy=False)`. To opt-in to the future behavior, set `pd.set_option('future.no_silent_downcasting', True)`\n",
      "  df[colunas_booleanas] = df[colunas_booleanas].replace(boolean_mapping)\n"
     ]
    }
   ],
   "source": [
    "#Pré-processamento\n",
    "\n",
    "# Remover a coluna 'permissions'\n",
    "df = df.drop(columns=['Primary streaming service'])\n",
    "\n",
    "# Atribuir um peso a cada resposta nas colunas de frequencia\n",
    "peso_respostas = {\n",
    "    'Never': 0,\n",
    "    'Rarely': 1,\n",
    "    'Sometimes': 2,\n",
    "    'Very frequently': 3\n",
    "}\n",
    "\n",
    "# Coluna inicial e final das frequencias para aplicar o peso de cada frequencia\n",
    "coluna_inicial = 'Classical_frequency'\n",
    "coluna_final = 'Video game music_frequency'\n",
    "\n",
    "# Selecionar todas as colunas entre 'coluna_inicial' e 'coluna_final'\n",
    "colunas_musicas = df.loc[:, coluna_inicial:coluna_final].columns\n",
    "\n",
    "# Troca dos valores antigos para o peso\n",
    "df[colunas_musicas] = df[colunas_musicas].replace(peso_respostas)\n",
    "\n",
    "# Mapear 'yes' para 1 e 'no' para 0\n",
    "boolean_mapping = {\n",
    "    'Yes': 1,\n",
    "    'No': 0\n",
    "}\n",
    "\n",
    "# Lista das colunas para transformar em booleano\n",
    "colunas_booleanas = ['While working', 'Instrumentalist', 'Composer', 'Exploratory', 'Foreign languages']\n",
    "\n",
    "# Aplica o mapping\n",
    "df[colunas_booleanas] = df[colunas_booleanas].replace(boolean_mapping)\n",
    "\n",
    "# Substituir 'Improve' por 1, 'No effect' e valores vazios por 0, e remover o restante\n",
    "df['Music effects'] = df['Music effects'].apply(lambda x: 1 if x == 'Improve' else (0 if x == 'No effect' or pd.isnull(x) else None))\n",
    "\n",
    "# Remover as linhas onde o valor em 'Music effects' é None (ou seja, não é 'Improve' nem 'No effect')\n",
    "df.dropna(subset=['Music effects'], inplace=True)\n",
    "\n",
    "# Formatar colunas_booleanas para boolean\n",
    "df[colunas_booleanas] = df[colunas_booleanas].astype(bool)\n",
    "\n"
   ]
  },
  {
   "cell_type": "code",
   "execution_count": 13,
   "metadata": {},
   "outputs": [],
   "source": [
    "from sklearn.preprocessing import LabelEncoder\n",
    "\n",
    "# Aplicando o LabelEncoder na coluna Fav Genre\n",
    "label_encoder = LabelEncoder()\n",
    "df['Fav_Genre_Encoded'] = label_encoder.fit_transform(df['Fav genre'])\n",
    "\n",
    "df = df.drop(columns='Fav genre')\n",
    "\n",
    "\n",
    "\n"
   ]
  },
  {
   "cell_type": "code",
   "execution_count": 14,
   "metadata": {},
   "outputs": [],
   "source": [
    "#Selecionar colunas para o eixo X(features)\n",
    "# colunas_perfil = ['Age', 'Hours per day', 'While working','Instrumentalist', 'Composer', 'Exploratory', 'Foreign languages', 'Fav_Genre_Encoded']\n",
    "colunas_transtorno = ['Anxiety', 'Depression', 'Insomnia', 'OCD']\n",
    "coluna_idade = ['Age']\n",
    "\n",
    "# colunas_x = colunas_perfil + colunas_transtorno + list(colunas_musicas)\n",
    "\n",
    "# Trate os NaN (escolha uma das opções)\n",
    "# df[colunas_x] = df[colunas_x].fillna(df[colunas_x].mean())\n",
    "\n",
    "# Trata os NaN somente nas colunas numericas\n",
    "df = df.apply(lambda x: x.fillna(x.mean()) if x.dtype in ['float64', 'int64'] else x)\n",
    "\n",
    "df = df.astype({col: 'int' for col in df.select_dtypes(include=['float']).columns})\n"
   ]
  },
  {
   "cell_type": "code",
   "execution_count": 15,
   "metadata": {},
   "outputs": [],
   "source": [
    "#Desenvolvimento algoritmo\n",
    "\n",
    "import matplotlib.pyplot as mtp  \n",
    "\n",
    "target_column = 'Music effects'\n",
    "colunas_features = list(colunas_musicas) + colunas_transtorno + coluna_idade\n",
    "\n",
    "x = df[colunas_features].values\n",
    "y = df[target_column].values\n",
    "\n",
    "# Dividir o dataset entre treino e teste\n",
    "from sklearn.model_selection import train_test_split\n",
    "  \n",
    "x_train, x_test, y_train, y_test = train_test_split(x, y, test_size = 0.15, random_state = 42)  \n",
    "\n",
    "#Padronizar o X\n",
    "from sklearn.preprocessing import StandardScaler  \n",
    "sc = StandardScaler()  \n",
    "x_train = sc.fit_transform(x_train)  \n",
    "x_test = sc.transform(x_test)  "
   ]
  },
  {
   "cell_type": "code",
   "execution_count": 16,
   "metadata": {},
   "outputs": [],
   "source": [
    "# Criando set de treino no Naive Bayes\n",
    "from sklearn.naive_bayes import GaussianNB  \n",
    "classifier =  GaussianNB(priors=[0.2, 0.8])\n",
    "classifier.fit(x_train, y_train) \n",
    "\n",
    "# Prevendo o set de resultados\n",
    "y_pred = classifier.predict(x_test)  "
   ]
  },
  {
   "cell_type": "code",
   "execution_count": 17,
   "metadata": {},
   "outputs": [
    {
     "name": "stdout",
     "output_type": "stream",
     "text": [
      "Accuracy: 0.6778\n",
      "[[ 7 13]\n",
      " [16 54]]\n",
      "              precision    recall  f1-score    support\n",
      "0              0.304348  0.350000  0.325581  20.000000\n",
      "1              0.805970  0.771429  0.788321  70.000000\n",
      "accuracy       0.677778  0.677778  0.677778   0.677778\n",
      "macro avg      0.555159  0.560714  0.556951  90.000000\n",
      "weighted avg   0.694499  0.677778  0.685490  90.000000\n"
     ]
    }
   ],
   "source": [
    "#Relátorios\n",
    "\n",
    "# Verificar precisão\n",
    "from sklearn.metrics import accuracy_score\n",
    "accuracy = accuracy_score(y_test, y_pred)\n",
    "print(f\"Accuracy: {accuracy:.4f}\")\n",
    "\n",
    "# Confusion Matrix\n",
    "from sklearn.metrics import confusion_matrix  \n",
    "cm = confusion_matrix(y_test, y_pred)  \n",
    "print(cm)\n",
    "\n",
    "# Converter o relatório em um DataFrame\n",
    "from sklearn.metrics import classification_report \n",
    "\n",
    "# Criar o relatório de classificação\n",
    "report = classification_report(y_test, y_pred, output_dict=True)  # output_dict=True retorna um dicionário\n",
    "\n",
    "report_df = pd.DataFrame(report).transpose() \n",
    "report_df = report_df[['precision', 'recall', 'f1-score', 'support']] \n",
    "\n",
    "# Exibir a tabela\n",
    "print(report_df)\n",
    "\n"
   ]
  },
  {
   "cell_type": "code",
   "execution_count": 18,
   "metadata": {},
   "outputs": [],
   "source": [
    "import pickle\n",
    "filepath = r'models/naive_bayes_under_model.pkl'\n",
    "pickle.dump(classifier, open(filepath, 'wb'))"
   ]
  }
 ],
 "metadata": {
  "kernelspec": {
   "display_name": "base",
   "language": "python",
   "name": "python3"
  },
  "language_info": {
   "codemirror_mode": {
    "name": "ipython",
    "version": 3
   },
   "file_extension": ".py",
   "mimetype": "text/x-python",
   "name": "python",
   "nbconvert_exporter": "python",
   "pygments_lexer": "ipython3",
   "version": "3.12.3"
  }
 },
 "nbformat": 4,
 "nbformat_minor": 2
}
