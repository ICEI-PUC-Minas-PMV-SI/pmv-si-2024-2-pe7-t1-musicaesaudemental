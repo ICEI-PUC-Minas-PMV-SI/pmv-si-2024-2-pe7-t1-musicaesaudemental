{
 "cells": [
  {
   "cell_type": "code",
   "execution_count": 71,
   "metadata": {},
   "outputs": [],
   "source": [
    "#Importar bibliotecas\n",
    "import pandas as pd\n",
    "import numpy as np\n",
    "import matplotlib.pyplot as plt\n",
    "import seaborn as sns\n",
    "from sklearn.model_selection import train_test_split\n",
    "from sklearn.preprocessing import StandardScaler\n",
    "from scipy import stats\n",
    "\n",
    "#Estilo para as plots\n",
    "plt.style.use('ggplot')\n",
    "\n"
   ]
  },
  {
   "cell_type": "code",
   "execution_count": 72,
   "metadata": {},
   "outputs": [],
   "source": [
    "#Importar tabela\n",
    "file_path = 'C:/Users/Gabriel/Desktop/Gabriel/py/dataset-musica-saude.csv'\n",
    "df = pd.read_csv(file_path, sep=';')"
   ]
  },
  {
   "cell_type": "code",
   "execution_count": null,
   "metadata": {},
   "outputs": [],
   "source": [
    "#Visualizar 5 primeiras linhas\n",
    "df.head()"
   ]
  },
  {
   "cell_type": "code",
   "execution_count": null,
   "metadata": {},
   "outputs": [],
   "source": [
    "#Visualizar 5 primeiras linhas\n",
    "print(df.info())"
   ]
  },
  {
   "cell_type": "code",
   "execution_count": null,
   "metadata": {},
   "outputs": [],
   "source": [
    "df.describe()"
   ]
  },
  {
   "cell_type": "code",
   "execution_count": null,
   "metadata": {},
   "outputs": [],
   "source": [
    "df.isnull().sum()"
   ]
  },
  {
   "cell_type": "markdown",
   "metadata": {},
   "source": [
    "Aqui irá começar o desenvolvimento da analise em como as frequencias de músicas se correlacionam para os resultados na saúde mental"
   ]
  },
  {
   "cell_type": "code",
   "execution_count": 82,
   "metadata": {},
   "outputs": [
    {
     "name": "stdout",
     "output_type": "stream",
     "text": [
      "            Timestamp   Age Primary streaming service  Hours per day  \\\n",
      "0  8/27/2022 19:29:02  18.0                   Spotify            3.0   \n",
      "1  8/27/2022 19:57:31  63.0                   Pandora            1.5   \n",
      "2  8/27/2022 21:28:18  18.0                   Spotify            4.0   \n",
      "3  8/27/2022 21:40:40  61.0             YouTube Music            2.5   \n",
      "4  8/27/2022 21:54:47  18.0                   Spotify            4.0   \n",
      "\n",
      "  While working Instrumentalist Composer         Fav genre Exploratory  \\\n",
      "0           Yes             Yes      Yes             Latin         Yes   \n",
      "1           Yes              No       No              Rock         Yes   \n",
      "2            No              No       No  Video game music          No   \n",
      "3           Yes              No      Yes              Jazz         Yes   \n",
      "4           Yes              No       No               R&B         Yes   \n",
      "\n",
      "  Foreign languages  ...  Frequency [R&B]  Frequency [Rap]  Frequency [Rock]  \\\n",
      "0               Yes  ...                3                4                 1   \n",
      "1                No  ...                3                2                 4   \n",
      "2               Yes  ...                1                2                 2   \n",
      "3               Yes  ...                3                1                 1   \n",
      "4                No  ...                4                4                 1   \n",
      "\n",
      "   Frequency [Video game music]  Anxiety  Depression  Insomnia  OCD  \\\n",
      "0                             3      3.0         0.0       1.0  0.0   \n",
      "1                             2      7.0         2.0       2.0  1.0   \n",
      "2                             4      7.0         7.0      10.0  2.0   \n",
      "3                             1      9.0         7.0       3.0  3.0   \n",
      "4                             2      7.0         2.0       5.0  9.0   \n",
      "\n",
      "   Music effects    Permissions  \n",
      "0            NaN  I understand.  \n",
      "1            NaN  I understand.  \n",
      "2      No effect  I understand.  \n",
      "3        Improve  I understand.  \n",
      "4        Improve  I understand.  \n",
      "\n",
      "[5 rows x 33 columns]\n"
     ]
    }
   ],
   "source": [
    "# Atribuir um peso a cada resposta nas colunas de frequencia\n",
    "peso_respostas = {\n",
    "    'Never': 1,\n",
    "    'Rarely': 2,\n",
    "    'Sometimes': 3,\n",
    "    'Very frequently': 4\n",
    "}\n",
    "\n",
    "# Coluna inicial e final das frequencias para aplicar o peso de cada frequencia\n",
    "coluna_inicial = 'Frequency [Classical]'\n",
    "coluna_final = 'Frequency [Video game music]'\n",
    "\n",
    "# Selecionar todas as colunas entre 'coluna_inicial' e 'coluna_final'\n",
    "colunas_musicas = df.loc[:, coluna_inicial:coluna_final].columns\n",
    "\n",
    "# print('Colunas selecionadas')\n",
    "# print(colunas_musicas.tolist())\n",
    "\n",
    "# Troca dos valores antigos para o peso\n",
    "df[colunas_musicas] = df[colunas_musicas].replace(peso_respostas)\n",
    "\n",
    "# Resultado\n",
    "print(df.head())"
   ]
  },
  {
   "cell_type": "code",
   "execution_count": 89,
   "metadata": {},
   "outputs": [
    {
     "name": "stdout",
     "output_type": "stream",
     "text": [
      "Ranking de Gêneros com Frequência 4 (Melhor Impacto na Saúde Mental):\n",
      "           Fav genre   Anxiety  Depression  Insomnia       OCD   average\n",
      "9               Lofi  6.100000    6.600000  5.600000  3.400000  5.425000\n",
      "14              Rock  6.396450    5.476331  3.931953  2.843195  4.661982\n",
      "5            Hip hop  6.200000    5.800000  3.428571  2.714286  4.535714\n",
      "3               Folk  6.692308    5.307692  3.653846  2.076923  4.432692\n",
      "2                EDM  5.486486    5.243243  3.972973  3.000000  4.425676\n",
      "10             Metal  5.583333    4.904762  4.488095  2.309524  4.321429\n",
      "15  Video game music  5.925000    4.350000  4.200000  2.475000  4.237500\n",
      "6               Jazz  5.684211    4.578947  4.052632  2.421053  4.184211\n",
      "11               Pop  6.014019    4.518692  3.373832  2.789720  4.174065\n",
      "7              K pop  6.230769    4.423077  3.461538  2.538462  4.163462\n",
      "4             Gospel  5.600000    3.200000  6.400000  0.400000  3.900000\n",
      "0          Classical  4.980769    4.153846  3.826923  2.403846  3.841346\n",
      "1            Country  5.400000    4.320000  2.720000  2.760000  3.800000\n",
      "12               R&B  5.516129    4.193548  2.612903  2.645161  3.741935\n",
      "13               Rap  5.142857    4.047619  2.190476  3.095238  3.619048\n",
      "8              Latin  4.333333    3.000000  3.333333  1.666667  3.083333\n"
     ]
    }
   ],
   "source": [
    "# Filtrar apenas as linhas onde qualquer gênero tenha frequência 4 (muito frequente)\n",
    "df_frequencia_4 = df[df[colunas_musicas].isin([4]).any(axis=1)]\n",
    "\n",
    "# Agora, agrupar pelo 'favorite genre' e calcular a média de ansiedade e depressão\n",
    "resultados = df_frequencia_4.groupby('Fav genre')[['Anxiety', 'Depression', 'Insomnia', 'OCD']].mean().reset_index()\n",
    "\n",
    "# Adicionar uma coluna que calcula a média geral das duas (ansiedade e depressão)\n",
    "resultados['average'] = resultados[['Anxiety', 'Depression', 'Insomnia', 'OCD']].mean(axis=1)\n",
    "\n",
    "# Ordenar do menor para o maior (melhor impacto na saúde mental)\n",
    "ordem_res = resultados.sort_values(by='average', ascending=False)\n",
    "\n",
    "#Exibir o ranking\n",
    "print(\"Ranking de Gêneros com Frequência 4 (Melhor Impacto na Saúde Mental):\")\n",
    "print(ordem_res)\n"
   ]
  },
  {
   "cell_type": "markdown",
   "metadata": {},
   "source": [
    "Através dessa analise, temos um resultado bruto da classificação de como cada estilo favorito ajudou na saúde mental de forma geral e qual ajudou \"melhor\" em todos os aspectos"
   ]
  },
  {
   "cell_type": "markdown",
   "metadata": {},
   "source": [
    "Agora temos a correlação com outros generos"
   ]
  }
 ],
 "metadata": {
  "kernelspec": {
   "display_name": "Python 3",
   "language": "python",
   "name": "python3"
  },
  "language_info": {
   "codemirror_mode": {
    "name": "ipython",
    "version": 3
   },
   "file_extension": ".py",
   "mimetype": "text/x-python",
   "name": "python",
   "nbconvert_exporter": "python",
   "pygments_lexer": "ipython3",
   "version": "3.12.4"
  }
 },
 "nbformat": 4,
 "nbformat_minor": 2
}
